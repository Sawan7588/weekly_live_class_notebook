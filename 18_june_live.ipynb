{
 "cells": [
  {
   "cell_type": "code",
   "execution_count": 1,
   "id": "69a78a75",
   "metadata": {},
   "outputs": [],
   "source": [
    "l = [1,2,3,4,5]"
   ]
  },
  {
   "cell_type": "code",
   "execution_count": 2,
   "id": "9c14a4a4",
   "metadata": {},
   "outputs": [
    {
     "name": "stdout",
     "output_type": "stream",
     "text": [
      "1\n",
      "2\n",
      "3\n",
      "4\n",
      "5\n"
     ]
    }
   ],
   "source": [
    "for i in l:\n",
    "    print(i)"
   ]
  },
  {
   "cell_type": "code",
   "execution_count": 3,
   "id": "009b0a7b",
   "metadata": {},
   "outputs": [
    {
     "ename": "TypeError",
     "evalue": "'list' object is not an iterator",
     "output_type": "error",
     "traceback": [
      "\u001b[1;31m---------------------------------------------------------------------------\u001b[0m",
      "\u001b[1;31mTypeError\u001b[0m                                 Traceback (most recent call last)",
      "\u001b[1;32m~\\AppData\\Local\\Temp/ipykernel_11040/2016234150.py\u001b[0m in \u001b[0;36m<module>\u001b[1;34m\u001b[0m\n\u001b[1;32m----> 1\u001b[1;33m \u001b[0mnext\u001b[0m\u001b[1;33m(\u001b[0m\u001b[0ml\u001b[0m\u001b[1;33m)\u001b[0m\u001b[1;33m\u001b[0m\u001b[1;33m\u001b[0m\u001b[0m\n\u001b[0m",
      "\u001b[1;31mTypeError\u001b[0m: 'list' object is not an iterator"
     ]
    }
   ],
   "source": [
    "next(l)"
   ]
  },
  {
   "cell_type": "code",
   "execution_count": 4,
   "id": "4834522d",
   "metadata": {},
   "outputs": [],
   "source": [
    "b = iter(l)"
   ]
  },
  {
   "cell_type": "code",
   "execution_count": 5,
   "id": "31b00938",
   "metadata": {},
   "outputs": [
    {
     "data": {
      "text/plain": [
       "1"
      ]
     },
     "execution_count": 5,
     "metadata": {},
     "output_type": "execute_result"
    }
   ],
   "source": [
    "next(b)"
   ]
  },
  {
   "cell_type": "code",
   "execution_count": 6,
   "id": "592f7480",
   "metadata": {},
   "outputs": [
    {
     "data": {
      "text/plain": [
       "2"
      ]
     },
     "execution_count": 6,
     "metadata": {},
     "output_type": "execute_result"
    }
   ],
   "source": [
    "next(b)"
   ]
  },
  {
   "cell_type": "code",
   "execution_count": 7,
   "id": "f697af43",
   "metadata": {},
   "outputs": [
    {
     "data": {
      "text/plain": [
       "3"
      ]
     },
     "execution_count": 7,
     "metadata": {},
     "output_type": "execute_result"
    }
   ],
   "source": [
    "next(b)"
   ]
  },
  {
   "cell_type": "code",
   "execution_count": 8,
   "id": "388026c1",
   "metadata": {},
   "outputs": [],
   "source": [
    "s = \"sudh\""
   ]
  },
  {
   "cell_type": "code",
   "execution_count": 9,
   "id": "ec6d7407",
   "metadata": {},
   "outputs": [
    {
     "ename": "TypeError",
     "evalue": "'str' object is not an iterator",
     "output_type": "error",
     "traceback": [
      "\u001b[1;31m---------------------------------------------------------------------------\u001b[0m",
      "\u001b[1;31mTypeError\u001b[0m                                 Traceback (most recent call last)",
      "\u001b[1;32m~\\AppData\\Local\\Temp/ipykernel_11040/2344177229.py\u001b[0m in \u001b[0;36m<module>\u001b[1;34m\u001b[0m\n\u001b[1;32m----> 1\u001b[1;33m \u001b[0mnext\u001b[0m\u001b[1;33m(\u001b[0m\u001b[1;34m\"s\"\u001b[0m\u001b[1;33m)\u001b[0m\u001b[1;33m\u001b[0m\u001b[1;33m\u001b[0m\u001b[0m\n\u001b[0m",
      "\u001b[1;31mTypeError\u001b[0m: 'str' object is not an iterator"
     ]
    }
   ],
   "source": [
    "next(\"s\")"
   ]
  },
  {
   "cell_type": "code",
   "execution_count": 10,
   "id": "2991ba52",
   "metadata": {},
   "outputs": [],
   "source": [
    "s = iter(s)"
   ]
  },
  {
   "cell_type": "code",
   "execution_count": 11,
   "id": "66970712",
   "metadata": {},
   "outputs": [
    {
     "data": {
      "text/plain": [
       "'s'"
      ]
     },
     "execution_count": 11,
     "metadata": {},
     "output_type": "execute_result"
    }
   ],
   "source": [
    "next(s)"
   ]
  },
  {
   "cell_type": "code",
   "execution_count": 12,
   "id": "16226a63",
   "metadata": {},
   "outputs": [
    {
     "data": {
      "text/plain": [
       "'u'"
      ]
     },
     "execution_count": 12,
     "metadata": {},
     "output_type": "execute_result"
    }
   ],
   "source": [
    "next(s)"
   ]
  },
  {
   "cell_type": "code",
   "execution_count": 13,
   "id": "bec4b1f5",
   "metadata": {},
   "outputs": [
    {
     "data": {
      "text/plain": [
       "'d'"
      ]
     },
     "execution_count": 13,
     "metadata": {},
     "output_type": "execute_result"
    }
   ],
   "source": [
    "next(s)"
   ]
  },
  {
   "cell_type": "code",
   "execution_count": 14,
   "id": "ab9656ce",
   "metadata": {},
   "outputs": [
    {
     "data": {
      "text/plain": [
       "'h'"
      ]
     },
     "execution_count": 14,
     "metadata": {},
     "output_type": "execute_result"
    }
   ],
   "source": [
    "next(s)"
   ]
  },
  {
   "cell_type": "code",
   "execution_count": 15,
   "id": "52a22341",
   "metadata": {},
   "outputs": [
    {
     "ename": "StopIteration",
     "evalue": "",
     "output_type": "error",
     "traceback": [
      "\u001b[1;31m---------------------------------------------------------------------------\u001b[0m",
      "\u001b[1;31mStopIteration\u001b[0m                             Traceback (most recent call last)",
      "\u001b[1;32m~\\AppData\\Local\\Temp/ipykernel_11040/1977886155.py\u001b[0m in \u001b[0;36m<module>\u001b[1;34m\u001b[0m\n\u001b[1;32m----> 1\u001b[1;33m \u001b[0mnext\u001b[0m\u001b[1;33m(\u001b[0m\u001b[0ms\u001b[0m\u001b[1;33m)\u001b[0m\u001b[1;33m\u001b[0m\u001b[1;33m\u001b[0m\u001b[0m\n\u001b[0m",
      "\u001b[1;31mStopIteration\u001b[0m: "
     ]
    }
   ],
   "source": [
    "next(s)"
   ]
  },
  {
   "cell_type": "code",
   "execution_count": 16,
   "id": "16c214e6",
   "metadata": {},
   "outputs": [
    {
     "name": "stdout",
     "output_type": "stream",
     "text": [
      "s\n",
      "u\n",
      "d\n",
      "h\n"
     ]
    }
   ],
   "source": [
    "s = \"sudh\"\n",
    "for i in s:\n",
    "    print(i)"
   ]
  },
  {
   "cell_type": "code",
   "execution_count": 17,
   "id": "617de1c8",
   "metadata": {},
   "outputs": [],
   "source": [
    "t = (94,5,6,7)"
   ]
  },
  {
   "cell_type": "code",
   "execution_count": 18,
   "id": "b7bcd110",
   "metadata": {},
   "outputs": [],
   "source": [
    "t = iter(t)"
   ]
  },
  {
   "cell_type": "code",
   "execution_count": 19,
   "id": "bf67f573",
   "metadata": {},
   "outputs": [
    {
     "data": {
      "text/plain": [
       "94"
      ]
     },
     "execution_count": 19,
     "metadata": {},
     "output_type": "execute_result"
    }
   ],
   "source": [
    "next(t)"
   ]
  },
  {
   "cell_type": "code",
   "execution_count": 20,
   "id": "432c5502",
   "metadata": {},
   "outputs": [
    {
     "data": {
      "text/plain": [
       "5"
      ]
     },
     "execution_count": 20,
     "metadata": {},
     "output_type": "execute_result"
    }
   ],
   "source": [
    "next(t)"
   ]
  },
  {
   "cell_type": "code",
   "execution_count": 21,
   "id": "32aa8da5",
   "metadata": {},
   "outputs": [
    {
     "data": {
      "text/plain": [
       "6"
      ]
     },
     "execution_count": 21,
     "metadata": {},
     "output_type": "execute_result"
    }
   ],
   "source": [
    "next(t)"
   ]
  },
  {
   "cell_type": "code",
   "execution_count": 22,
   "id": "793bc438",
   "metadata": {},
   "outputs": [
    {
     "data": {
      "text/plain": [
       "7"
      ]
     },
     "execution_count": 22,
     "metadata": {},
     "output_type": "execute_result"
    }
   ],
   "source": [
    "next(t)"
   ]
  },
  {
   "cell_type": "code",
   "execution_count": 23,
   "id": "920e967f",
   "metadata": {},
   "outputs": [
    {
     "ename": "StopIteration",
     "evalue": "",
     "output_type": "error",
     "traceback": [
      "\u001b[1;31m---------------------------------------------------------------------------\u001b[0m",
      "\u001b[1;31mStopIteration\u001b[0m                             Traceback (most recent call last)",
      "\u001b[1;32m~\\AppData\\Local\\Temp/ipykernel_11040/2139502855.py\u001b[0m in \u001b[0;36m<module>\u001b[1;34m\u001b[0m\n\u001b[1;32m----> 1\u001b[1;33m \u001b[0mnext\u001b[0m\u001b[1;33m(\u001b[0m\u001b[0mt\u001b[0m\u001b[1;33m)\u001b[0m\u001b[1;33m\u001b[0m\u001b[1;33m\u001b[0m\u001b[0m\n\u001b[0m",
      "\u001b[1;31mStopIteration\u001b[0m: "
     ]
    }
   ],
   "source": [
    "next(t)"
   ]
  },
  {
   "cell_type": "code",
   "execution_count": 25,
   "id": "b13e138f",
   "metadata": {},
   "outputs": [
    {
     "data": {
      "text/plain": [
       "[1, 2, 3, 4, 5, 6, 7, 8, 9]"
      ]
     },
     "execution_count": 25,
     "metadata": {},
     "output_type": "execute_result"
    }
   ],
   "source": [
    "list(range(1,10))"
   ]
  },
  {
   "cell_type": "code",
   "execution_count": 28,
   "id": "11b31bf4",
   "metadata": {},
   "outputs": [
    {
     "ename": "SyntaxError",
     "evalue": "invalid syntax (Temp/ipykernel_11040/3802596344.py, line 1)",
     "output_type": "error",
     "traceback": [
      "\u001b[1;36m  File \u001b[1;32m\"C:\\Users\\admin\\AppData\\Local\\Temp/ipykernel_11040/3802596344.py\"\u001b[1;36m, line \u001b[1;32m1\u001b[0m\n\u001b[1;33m    def square_fun(int(input(n))):\u001b[0m\n\u001b[1;37m                      ^\u001b[0m\n\u001b[1;31mSyntaxError\u001b[0m\u001b[1;31m:\u001b[0m invalid syntax\n"
     ]
    }
   ],
   "source": [
    "def square_fun(int(input(n))):\n",
    "    for i in n:\n",
    "        print(i*i)"
   ]
  },
  {
   "cell_type": "code",
   "execution_count": 27,
   "id": "fd06fe03",
   "metadata": {},
   "outputs": [
    {
     "ename": "TypeError",
     "evalue": "'int' object is not iterable",
     "output_type": "error",
     "traceback": [
      "\u001b[1;31m---------------------------------------------------------------------------\u001b[0m",
      "\u001b[1;31mTypeError\u001b[0m                                 Traceback (most recent call last)",
      "\u001b[1;32m~\\AppData\\Local\\Temp/ipykernel_11040/1363887585.py\u001b[0m in \u001b[0;36m<module>\u001b[1;34m\u001b[0m\n\u001b[1;32m----> 1\u001b[1;33m \u001b[0msquare_fun\u001b[0m\u001b[1;33m(\u001b[0m\u001b[1;36m10\u001b[0m\u001b[1;33m)\u001b[0m\u001b[1;33m\u001b[0m\u001b[1;33m\u001b[0m\u001b[0m\n\u001b[0m",
      "\u001b[1;32m~\\AppData\\Local\\Temp/ipykernel_11040/1740366625.py\u001b[0m in \u001b[0;36msquare_fun\u001b[1;34m(n)\u001b[0m\n\u001b[0;32m      1\u001b[0m \u001b[1;32mdef\u001b[0m \u001b[0msquare_fun\u001b[0m\u001b[1;33m(\u001b[0m\u001b[0mn\u001b[0m\u001b[1;33m)\u001b[0m\u001b[1;33m:\u001b[0m\u001b[1;33m\u001b[0m\u001b[1;33m\u001b[0m\u001b[0m\n\u001b[1;32m----> 2\u001b[1;33m     \u001b[1;32mfor\u001b[0m \u001b[0mi\u001b[0m \u001b[1;32min\u001b[0m \u001b[0mn\u001b[0m\u001b[1;33m:\u001b[0m\u001b[1;33m\u001b[0m\u001b[1;33m\u001b[0m\u001b[0m\n\u001b[0m\u001b[0;32m      3\u001b[0m         \u001b[0mprint\u001b[0m\u001b[1;33m(\u001b[0m\u001b[0mi\u001b[0m\u001b[1;33m*\u001b[0m\u001b[0mi\u001b[0m\u001b[1;33m)\u001b[0m\u001b[1;33m\u001b[0m\u001b[1;33m\u001b[0m\u001b[0m\n",
      "\u001b[1;31mTypeError\u001b[0m: 'int' object is not iterable"
     ]
    }
   ],
   "source": [
    "square_fun(10)"
   ]
  },
  {
   "cell_type": "code",
   "execution_count": 29,
   "id": "da8f69c1",
   "metadata": {},
   "outputs": [],
   "source": [
    "def square_fun(n):\n",
    "    x = [i*i for i in range(n)]\n",
    "    return x"
   ]
  },
  {
   "cell_type": "code",
   "execution_count": 30,
   "id": "4918426b",
   "metadata": {},
   "outputs": [
    {
     "data": {
      "text/plain": [
       "[0, 1, 4, 9, 16]"
      ]
     },
     "execution_count": 30,
     "metadata": {},
     "output_type": "execute_result"
    }
   ],
   "source": [
    "square_fun(5)"
   ]
  },
  {
   "cell_type": "code",
   "execution_count": 31,
   "id": "2bc2c18d",
   "metadata": {},
   "outputs": [],
   "source": [
    "def square_fun1(n):\n",
    "    x = [i*i for i in range(n)]\n",
    "    yield x"
   ]
  },
  {
   "cell_type": "code",
   "execution_count": 32,
   "id": "48b765a4",
   "metadata": {},
   "outputs": [
    {
     "data": {
      "text/plain": [
       "<generator object square_fun1 at 0x0000025D5E2C5970>"
      ]
     },
     "execution_count": 32,
     "metadata": {},
     "output_type": "execute_result"
    }
   ],
   "source": [
    "square_fun1(4)"
   ]
  },
  {
   "cell_type": "code",
   "execution_count": 33,
   "id": "839fde0a",
   "metadata": {},
   "outputs": [
    {
     "data": {
      "text/plain": [
       "range(0, 5)"
      ]
     },
     "execution_count": 33,
     "metadata": {},
     "output_type": "execute_result"
    }
   ],
   "source": [
    "range(5)"
   ]
  },
  {
   "cell_type": "code",
   "execution_count": 34,
   "id": "05315ced",
   "metadata": {},
   "outputs": [],
   "source": [
    "r = iter(range(4))"
   ]
  },
  {
   "cell_type": "code",
   "execution_count": 35,
   "id": "0b47a6c1",
   "metadata": {},
   "outputs": [
    {
     "ename": "TypeError",
     "evalue": "'int' object is not an iterator",
     "output_type": "error",
     "traceback": [
      "\u001b[1;31m---------------------------------------------------------------------------\u001b[0m",
      "\u001b[1;31mTypeError\u001b[0m                                 Traceback (most recent call last)",
      "\u001b[1;32m~\\AppData\\Local\\Temp/ipykernel_11040/3370666955.py\u001b[0m in \u001b[0;36m<module>\u001b[1;34m\u001b[0m\n\u001b[1;32m----> 1\u001b[1;33m \u001b[0mnext\u001b[0m\u001b[1;33m(\u001b[0m\u001b[1;36m4\u001b[0m\u001b[1;33m)\u001b[0m\u001b[1;33m\u001b[0m\u001b[1;33m\u001b[0m\u001b[0m\n\u001b[0m",
      "\u001b[1;31mTypeError\u001b[0m: 'int' object is not an iterator"
     ]
    }
   ],
   "source": [
    "next(4)"
   ]
  },
  {
   "cell_type": "code",
   "execution_count": 42,
   "id": "94782d80",
   "metadata": {},
   "outputs": [],
   "source": [
    "def funaci(n):\n",
    "    a= 1\n",
    "    b = 1\n",
    "    l = []\n",
    "    for i in range(n):\n",
    "        l.append(a)\n",
    "        a,b = b,a+b\n",
    "    return l\n",
    "        \n",
    "    "
   ]
  },
  {
   "cell_type": "code",
   "execution_count": 43,
   "id": "57b5c319",
   "metadata": {},
   "outputs": [
    {
     "data": {
      "text/plain": [
       "[1, 1, 2, 3, 5, 8, 13, 21, 34, 55]"
      ]
     },
     "execution_count": 43,
     "metadata": {},
     "output_type": "execute_result"
    }
   ],
   "source": [
    "funaci(10)"
   ]
  },
  {
   "cell_type": "code",
   "execution_count": 44,
   "id": "d817b390",
   "metadata": {},
   "outputs": [],
   "source": [
    "# file operations"
   ]
  },
  {
   "cell_type": "code",
   "execution_count": 48,
   "id": "2e316564",
   "metadata": {},
   "outputs": [],
   "source": [
    "f = open(\"sudh1.txt\", \"w\")"
   ]
  },
  {
   "cell_type": "code",
   "execution_count": 46,
   "id": "98a2d2cd",
   "metadata": {},
   "outputs": [
    {
     "name": "stdout",
     "output_type": "stream",
     "text": [
      " Volume in drive C has no label.\n",
      " Volume Serial Number is 569F-7280\n",
      "\n",
      " Directory of C:\\Users\\admin\n",
      "\n"
     ]
    },
    {
     "name": "stderr",
     "output_type": "stream",
     "text": [
      "File Not Found\n"
     ]
    }
   ],
   "source": [
    "ls()"
   ]
  },
  {
   "cell_type": "code",
   "execution_count": 50,
   "id": "12349f0c",
   "metadata": {},
   "outputs": [
    {
     "name": "stdout",
     "output_type": "stream",
     "text": [
      " Volume in drive C has no label.\n",
      " Volume Serial Number is 569F-7280\n",
      "\n",
      " Directory of C:\\Users\\admin\n",
      "\n",
      "06/18/2022  04:37 PM    <DIR>          .\n",
      "06/18/2022  04:37 PM    <DIR>          ..\n",
      "05/12/2022  01:50 AM    <DIR>          .anaconda\n",
      "05/26/2022  08:43 AM    <DIR>          .android\n",
      "05/13/2022  12:52 AM    <DIR>          .conda\n",
      "05/12/2022  01:52 AM                25 .condarc\n",
      "05/12/2022  01:51 AM    <DIR>          .continuum\n",
      "06/18/2022  03:17 PM    <DIR>          .ipynb_checkpoints\n",
      "05/12/2022  02:39 PM    <DIR>          .ipython\n",
      "05/26/2022  05:57 PM    <DIR>          .jdks\n",
      "05/12/2022  04:41 PM    <DIR>          .jupyter\n",
      "05/12/2022  01:48 AM                19 .python_history\n",
      "02/10/2022  06:03 PM    <DIR>          .VirtualBox\n",
      "03/17/2022  12:57 AM    <DIR>          .vscode\n",
      "06/12/2022  05:29 PM            10,670 12_june_live_class.ipynb\n",
      "05/21/2022  02:55 PM             7,531 15May_TASK_Sawan_Palasiya_FSDS.ipynb\n",
      "05/17/2022  02:34 AM             7,640 16_May_Practice.ipynb\n",
      "06/18/2022  04:37 PM            22,029 18_june_live.ipynb\n",
      "05/19/2022  03:09 PM            10,999 18_may.ipynb\n",
      "05/13/2022  02:05 AM            26,618 1st_day.ipynb\n",
      "05/21/2022  05:37 PM            39,635 21_may_live Class.ipynb\n",
      "05/23/2022  12:49 AM            17,108 21_may_Practice_loops.ipynb\n",
      "05/22/2022  11:19 PM             8,142 22 may_live class.ipynb\n",
      "05/23/2022  05:10 PM             3,545 23_may_Practice.ipynb\n",
      "05/27/2022  01:23 AM             8,547 26 May_string Practice.ipynb\n",
      "06/10/2022  02:14 PM            35,996 28 may_live class.ipynb\n",
      "06/04/2022  06:22 PM            16,428 28may _task_submitted by sawan palasiya_FSDS batch.ipynb\n",
      "05/29/2022  05:37 PM         5,229,176 29 May_live class.ipynb\n",
      "07/24/2021  10:45 PM    <DIR>          3D Objects\n",
      "06/04/2022  03:24 PM             3,037 4_june_live class.ipynb\n",
      "06/05/2022  04:55 PM            16,901 5_june_live class.ipynb\n",
      "05/08/2022  05:26 PM    <DIR>          anaconda3\n",
      "08/22/2021  10:51 AM               151 BullseyeCoverageError.txt\n",
      "07/24/2021  10:45 PM    <DIR>          Contacts\n",
      "05/29/2022  06:11 PM    <DIR>          Desktop\n",
      "05/08/2022  05:26 PM    <DIR>          Documents\n",
      "06/18/2022  04:35 PM    <DIR>          Downloads\n",
      "07/24/2021  10:45 PM    <DIR>          Favorites\n",
      "11/13/2018  05:46 PM             2,260 Google Chrome.lnk\n",
      "05/27/2022  08:01 AM    <DIR>          IdeaProjects\n",
      "07/24/2021  10:45 PM    <DIR>          Links\n",
      "05/21/2022  02:50 AM            20,932 List_manipulation.ipynb\n",
      "05/25/2022  01:23 AM             7,834 List_manipulation_1.ipynb\n",
      "05/16/2022  02:56 PM             1,665 loops.ipynb\n",
      "01/09/2022  03:38 AM    <DIR>          Music\n",
      "05/10/2022  03:35 PM    <DIR>          OneDrive\n",
      "05/30/2022  08:45 PM    <DIR>          Pictures\n",
      "07/24/2021  10:45 PM    <DIR>          Saved Games\n",
      "07/24/2021  10:45 PM    <DIR>          Searches\n",
      "05/28/2022  01:00 AM            10,122 string_practice.ipynb\n",
      "06/18/2022  04:37 PM                 0 sudh1.txt\n",
      "05/26/2022  01:29 AM            48,962 Tuplle.ipynb\n",
      "05/12/2022  02:43 PM               588 Untitled.ipynb\n",
      "05/13/2022  01:11 AM            26,618 Untitled1.ipynb\n",
      "05/16/2022  02:59 PM                72 Untitled10.ipynb\n",
      "05/16/2022  04:50 PM             6,842 Untitled11.ipynb\n",
      "05/16/2022  05:49 PM             6,196 Untitled12.ipynb\n",
      "05/23/2022  01:35 AM             2,777 Untitled13.ipynb\n",
      "05/25/2022  01:31 AM               588 Untitled14.ipynb\n",
      "05/26/2022  01:49 PM                72 Untitled15.ipynb\n",
      "05/13/2022  05:09 PM             1,025 Untitled2.ipynb\n",
      "05/13/2022  05:43 PM             2,161 Untitled3.ipynb\n",
      "05/14/2022  11:00 AM             1,100 Untitled4.ipynb\n",
      "05/14/2022  11:19 AM             1,810 Untitled5.ipynb\n",
      "05/15/2022  05:31 PM            27,886 Untitled6.ipynb\n",
      "05/15/2022  11:50 PM               697 Untitled7.ipynb\n",
      "05/16/2022  02:55 PM             1,665 Untitled8.ipynb\n",
      "06/10/2022  01:00 AM               588 Untitled9.ipynb\n",
      "12/17/2021  01:44 PM    <DIR>          Videos\n",
      "01/24/2022  03:59 PM    <DIR>          VirtualBox VMs\n",
      "06/10/2022  01:03 AM            22,915 working with string and lists.ipynb\n",
      "              43 File(s)      5,659,572 bytes\n",
      "              28 Dir(s)  54,410,936,320 bytes free\n"
     ]
    }
   ],
   "source": [
    "ls"
   ]
  },
  {
   "cell_type": "code",
   "execution_count": 51,
   "id": "54866c08",
   "metadata": {},
   "outputs": [
    {
     "data": {
      "text/plain": [
       "36"
      ]
     },
     "execution_count": 51,
     "metadata": {},
     "output_type": "execute_result"
    }
   ],
   "source": [
    "f.write(\"this is my very first file operation\")"
   ]
  },
  {
   "cell_type": "code",
   "execution_count": 52,
   "id": "630ed1f0",
   "metadata": {},
   "outputs": [],
   "source": [
    "f.close()"
   ]
  },
  {
   "cell_type": "code",
   "execution_count": 53,
   "id": "c9ed1623",
   "metadata": {},
   "outputs": [
    {
     "name": "stdout",
     "output_type": "stream",
     "text": [
      " Volume in drive C has no label.\n",
      " Volume Serial Number is 569F-7280\n",
      "\n",
      " Directory of C:\\Users\\admin\n",
      "\n",
      "06/18/2022  04:39 PM    <DIR>          .\n",
      "06/18/2022  04:39 PM    <DIR>          ..\n",
      "05/12/2022  01:50 AM    <DIR>          .anaconda\n",
      "05/26/2022  08:43 AM    <DIR>          .android\n",
      "05/13/2022  12:52 AM    <DIR>          .conda\n",
      "05/12/2022  01:52 AM                25 .condarc\n",
      "05/12/2022  01:51 AM    <DIR>          .continuum\n",
      "06/18/2022  03:17 PM    <DIR>          .ipynb_checkpoints\n",
      "05/12/2022  02:39 PM    <DIR>          .ipython\n",
      "05/26/2022  05:57 PM    <DIR>          .jdks\n",
      "05/12/2022  04:41 PM    <DIR>          .jupyter\n",
      "05/12/2022  01:48 AM                19 .python_history\n",
      "02/10/2022  06:03 PM    <DIR>          .VirtualBox\n",
      "03/17/2022  12:57 AM    <DIR>          .vscode\n",
      "06/12/2022  05:29 PM            10,670 12_june_live_class.ipynb\n",
      "05/21/2022  02:55 PM             7,531 15May_TASK_Sawan_Palasiya_FSDS.ipynb\n",
      "05/17/2022  02:34 AM             7,640 16_May_Practice.ipynb\n",
      "06/18/2022  04:39 PM            21,245 18_june_live.ipynb\n",
      "05/19/2022  03:09 PM            10,999 18_may.ipynb\n",
      "05/13/2022  02:05 AM            26,618 1st_day.ipynb\n",
      "05/21/2022  05:37 PM            39,635 21_may_live Class.ipynb\n",
      "05/23/2022  12:49 AM            17,108 21_may_Practice_loops.ipynb\n",
      "05/22/2022  11:19 PM             8,142 22 may_live class.ipynb\n",
      "05/23/2022  05:10 PM             3,545 23_may_Practice.ipynb\n",
      "05/27/2022  01:23 AM             8,547 26 May_string Practice.ipynb\n",
      "06/10/2022  02:14 PM            35,996 28 may_live class.ipynb\n",
      "06/04/2022  06:22 PM            16,428 28may _task_submitted by sawan palasiya_FSDS batch.ipynb\n",
      "05/29/2022  05:37 PM         5,229,176 29 May_live class.ipynb\n",
      "07/24/2021  10:45 PM    <DIR>          3D Objects\n",
      "06/04/2022  03:24 PM             3,037 4_june_live class.ipynb\n",
      "06/05/2022  04:55 PM            16,901 5_june_live class.ipynb\n",
      "05/08/2022  05:26 PM    <DIR>          anaconda3\n",
      "08/22/2021  10:51 AM               151 BullseyeCoverageError.txt\n",
      "07/24/2021  10:45 PM    <DIR>          Contacts\n",
      "05/29/2022  06:11 PM    <DIR>          Desktop\n",
      "05/08/2022  05:26 PM    <DIR>          Documents\n",
      "06/18/2022  04:35 PM    <DIR>          Downloads\n",
      "07/24/2021  10:45 PM    <DIR>          Favorites\n",
      "11/13/2018  05:46 PM             2,260 Google Chrome.lnk\n",
      "05/27/2022  08:01 AM    <DIR>          IdeaProjects\n",
      "07/24/2021  10:45 PM    <DIR>          Links\n",
      "05/21/2022  02:50 AM            20,932 List_manipulation.ipynb\n",
      "05/25/2022  01:23 AM             7,834 List_manipulation_1.ipynb\n",
      "05/16/2022  02:56 PM             1,665 loops.ipynb\n",
      "01/09/2022  03:38 AM    <DIR>          Music\n",
      "05/10/2022  03:35 PM    <DIR>          OneDrive\n",
      "05/30/2022  08:45 PM    <DIR>          Pictures\n",
      "07/24/2021  10:45 PM    <DIR>          Saved Games\n",
      "07/24/2021  10:45 PM    <DIR>          Searches\n",
      "05/28/2022  01:00 AM            10,122 string_practice.ipynb\n",
      "06/18/2022  04:40 PM                36 sudh1.txt\n",
      "05/26/2022  01:29 AM            48,962 Tuplle.ipynb\n",
      "05/12/2022  02:43 PM               588 Untitled.ipynb\n",
      "05/13/2022  01:11 AM            26,618 Untitled1.ipynb\n",
      "05/16/2022  02:59 PM                72 Untitled10.ipynb\n",
      "05/16/2022  04:50 PM             6,842 Untitled11.ipynb\n",
      "05/16/2022  05:49 PM             6,196 Untitled12.ipynb\n",
      "05/23/2022  01:35 AM             2,777 Untitled13.ipynb\n",
      "05/25/2022  01:31 AM               588 Untitled14.ipynb\n",
      "05/26/2022  01:49 PM                72 Untitled15.ipynb\n",
      "05/13/2022  05:09 PM             1,025 Untitled2.ipynb\n",
      "05/13/2022  05:43 PM             2,161 Untitled3.ipynb\n",
      "05/14/2022  11:00 AM             1,100 Untitled4.ipynb\n",
      "05/14/2022  11:19 AM             1,810 Untitled5.ipynb\n",
      "05/15/2022  05:31 PM            27,886 Untitled6.ipynb\n",
      "05/15/2022  11:50 PM               697 Untitled7.ipynb\n",
      "05/16/2022  02:55 PM             1,665 Untitled8.ipynb\n",
      "06/10/2022  01:00 AM               588 Untitled9.ipynb\n",
      "12/17/2021  01:44 PM    <DIR>          Videos\n",
      "01/24/2022  03:59 PM    <DIR>          VirtualBox VMs\n",
      "06/10/2022  01:03 AM            22,915 working with string and lists.ipynb\n",
      "              43 File(s)      5,658,824 bytes\n",
      "              28 Dir(s)  54,410,489,856 bytes free\n"
     ]
    }
   ],
   "source": [
    "ls"
   ]
  },
  {
   "cell_type": "code",
   "execution_count": 55,
   "id": "0d001bc6",
   "metadata": {},
   "outputs": [],
   "source": [
    "f1 = open(\"test1.txt\", \"w\")"
   ]
  },
  {
   "cell_type": "code",
   "execution_count": 56,
   "id": "b7451729",
   "metadata": {},
   "outputs": [
    {
     "data": {
      "text/plain": [
       "51"
      ]
     },
     "execution_count": 56,
     "metadata": {},
     "output_type": "execute_result"
    }
   ],
   "source": [
    "f1.write(\"this is a operation I am trying to do in FSDS batch\")"
   ]
  },
  {
   "cell_type": "code",
   "execution_count": 57,
   "id": "b950ff1a",
   "metadata": {},
   "outputs": [],
   "source": [
    "f1.close()"
   ]
  },
  {
   "cell_type": "code",
   "execution_count": 58,
   "id": "0eed8818",
   "metadata": {},
   "outputs": [],
   "source": [
    "l = [1,2,3,4,5,6]"
   ]
  },
  {
   "cell_type": "code",
   "execution_count": 59,
   "id": "25465b90",
   "metadata": {},
   "outputs": [],
   "source": [
    "f2 = open(\"test2.txt\", \"w\")"
   ]
  },
  {
   "cell_type": "code",
   "execution_count": 60,
   "id": "44439779",
   "metadata": {},
   "outputs": [
    {
     "ename": "TypeError",
     "evalue": "write() argument must be str, not list",
     "output_type": "error",
     "traceback": [
      "\u001b[1;31m---------------------------------------------------------------------------\u001b[0m",
      "\u001b[1;31mTypeError\u001b[0m                                 Traceback (most recent call last)",
      "\u001b[1;32m~\\AppData\\Local\\Temp/ipykernel_11040/2847691079.py\u001b[0m in \u001b[0;36m<module>\u001b[1;34m\u001b[0m\n\u001b[1;32m----> 1\u001b[1;33m \u001b[0mf2\u001b[0m\u001b[1;33m.\u001b[0m\u001b[0mwrite\u001b[0m\u001b[1;33m(\u001b[0m\u001b[0ml\u001b[0m\u001b[1;33m)\u001b[0m\u001b[1;33m\u001b[0m\u001b[1;33m\u001b[0m\u001b[0m\n\u001b[0m",
      "\u001b[1;31mTypeError\u001b[0m: write() argument must be str, not list"
     ]
    }
   ],
   "source": [
    "f2.write(l)"
   ]
  },
  {
   "cell_type": "code",
   "execution_count": 61,
   "id": "c474e721",
   "metadata": {},
   "outputs": [
    {
     "data": {
      "text/plain": [
       "18"
      ]
     },
     "execution_count": 61,
     "metadata": {},
     "output_type": "execute_result"
    }
   ],
   "source": [
    "f2.write(str(l))"
   ]
  },
  {
   "cell_type": "code",
   "execution_count": 62,
   "id": "9bb2f5f4",
   "metadata": {},
   "outputs": [],
   "source": [
    "f2.close()"
   ]
  },
  {
   "cell_type": "code",
   "execution_count": 63,
   "id": "262a2879",
   "metadata": {},
   "outputs": [
    {
     "name": "stdout",
     "output_type": "stream",
     "text": [
      " Volume in drive C has no label.\n",
      " Volume Serial Number is 569F-7280\n",
      "\n",
      " Directory of C:\\Users\\admin\n",
      "\n",
      "06/18/2022  04:45 PM    <DIR>          .\n",
      "06/18/2022  04:45 PM    <DIR>          ..\n",
      "05/12/2022  01:50 AM    <DIR>          .anaconda\n",
      "05/26/2022  08:43 AM    <DIR>          .android\n",
      "05/13/2022  12:52 AM    <DIR>          .conda\n",
      "05/12/2022  01:52 AM                25 .condarc\n",
      "05/12/2022  01:51 AM    <DIR>          .continuum\n",
      "06/18/2022  03:17 PM    <DIR>          .ipynb_checkpoints\n",
      "05/12/2022  02:39 PM    <DIR>          .ipython\n",
      "05/26/2022  05:57 PM    <DIR>          .jdks\n",
      "05/12/2022  04:41 PM    <DIR>          .jupyter\n",
      "05/12/2022  01:48 AM                19 .python_history\n",
      "02/10/2022  06:03 PM    <DIR>          .VirtualBox\n",
      "03/17/2022  12:57 AM    <DIR>          .vscode\n",
      "06/12/2022  05:29 PM            10,670 12_june_live_class.ipynb\n",
      "05/21/2022  02:55 PM             7,531 15May_TASK_Sawan_Palasiya_FSDS.ipynb\n",
      "05/17/2022  02:34 AM             7,640 16_May_Practice.ipynb\n",
      "06/18/2022  04:45 PM            28,957 18_june_live.ipynb\n",
      "05/19/2022  03:09 PM            10,999 18_may.ipynb\n",
      "05/13/2022  02:05 AM            26,618 1st_day.ipynb\n",
      "05/21/2022  05:37 PM            39,635 21_may_live Class.ipynb\n",
      "05/23/2022  12:49 AM            17,108 21_may_Practice_loops.ipynb\n",
      "05/22/2022  11:19 PM             8,142 22 may_live class.ipynb\n",
      "05/23/2022  05:10 PM             3,545 23_may_Practice.ipynb\n",
      "05/27/2022  01:23 AM             8,547 26 May_string Practice.ipynb\n",
      "06/10/2022  02:14 PM            35,996 28 may_live class.ipynb\n",
      "06/04/2022  06:22 PM            16,428 28may _task_submitted by sawan palasiya_FSDS batch.ipynb\n",
      "05/29/2022  05:37 PM         5,229,176 29 May_live class.ipynb\n",
      "07/24/2021  10:45 PM    <DIR>          3D Objects\n",
      "06/04/2022  03:24 PM             3,037 4_june_live class.ipynb\n",
      "06/05/2022  04:55 PM            16,901 5_june_live class.ipynb\n",
      "05/08/2022  05:26 PM    <DIR>          anaconda3\n",
      "08/22/2021  10:51 AM               151 BullseyeCoverageError.txt\n",
      "07/24/2021  10:45 PM    <DIR>          Contacts\n",
      "05/29/2022  06:11 PM    <DIR>          Desktop\n",
      "05/08/2022  05:26 PM    <DIR>          Documents\n",
      "06/18/2022  04:35 PM    <DIR>          Downloads\n",
      "07/24/2021  10:45 PM    <DIR>          Favorites\n",
      "11/13/2018  05:46 PM             2,260 Google Chrome.lnk\n",
      "05/27/2022  08:01 AM    <DIR>          IdeaProjects\n",
      "07/24/2021  10:45 PM    <DIR>          Links\n",
      "05/21/2022  02:50 AM            20,932 List_manipulation.ipynb\n",
      "05/25/2022  01:23 AM             7,834 List_manipulation_1.ipynb\n",
      "05/16/2022  02:56 PM             1,665 loops.ipynb\n",
      "01/09/2022  03:38 AM    <DIR>          Music\n",
      "05/10/2022  03:35 PM    <DIR>          OneDrive\n",
      "05/30/2022  08:45 PM    <DIR>          Pictures\n",
      "07/24/2021  10:45 PM    <DIR>          Saved Games\n",
      "07/24/2021  10:45 PM    <DIR>          Searches\n",
      "05/28/2022  01:00 AM            10,122 string_practice.ipynb\n",
      "06/18/2022  04:40 PM                36 sudh1.txt\n",
      "06/18/2022  04:43 PM                51 test1.txt\n",
      "06/18/2022  04:46 PM                18 test2.txt\n",
      "05/26/2022  01:29 AM            48,962 Tuplle.ipynb\n",
      "05/12/2022  02:43 PM               588 Untitled.ipynb\n",
      "05/13/2022  01:11 AM            26,618 Untitled1.ipynb\n",
      "05/16/2022  02:59 PM                72 Untitled10.ipynb\n",
      "05/16/2022  04:50 PM             6,842 Untitled11.ipynb\n",
      "05/16/2022  05:49 PM             6,196 Untitled12.ipynb\n",
      "05/23/2022  01:35 AM             2,777 Untitled13.ipynb\n",
      "05/25/2022  01:31 AM               588 Untitled14.ipynb\n",
      "05/26/2022  01:49 PM                72 Untitled15.ipynb\n",
      "05/13/2022  05:09 PM             1,025 Untitled2.ipynb\n",
      "05/13/2022  05:43 PM             2,161 Untitled3.ipynb\n",
      "05/14/2022  11:00 AM             1,100 Untitled4.ipynb\n",
      "05/14/2022  11:19 AM             1,810 Untitled5.ipynb\n",
      "05/15/2022  05:31 PM            27,886 Untitled6.ipynb\n",
      "05/15/2022  11:50 PM               697 Untitled7.ipynb\n",
      "05/16/2022  02:55 PM             1,665 Untitled8.ipynb\n",
      "06/10/2022  01:00 AM               588 Untitled9.ipynb\n",
      "12/17/2021  01:44 PM    <DIR>          Videos\n",
      "01/24/2022  03:59 PM    <DIR>          VirtualBox VMs\n",
      "06/10/2022  01:03 AM            22,915 working with string and lists.ipynb\n",
      "              45 File(s)      5,666,605 bytes\n",
      "              28 Dir(s)  54,405,079,040 bytes free\n"
     ]
    }
   ],
   "source": [
    "ls"
   ]
  },
  {
   "cell_type": "code",
   "execution_count": 64,
   "id": "1235f1b7",
   "metadata": {},
   "outputs": [],
   "source": [
    "f3 = open(\"test.sudh\",\"w\")\n",
    "f3.write(\"fsfreegw\")\n",
    "f3.close()"
   ]
  },
  {
   "cell_type": "code",
   "execution_count": 70,
   "id": "6e421b15",
   "metadata": {},
   "outputs": [
    {
     "name": "stdout",
     "output_type": "stream",
     "text": [
      "Overwriting tet5.txt\n"
     ]
    }
   ],
   "source": [
    "%%writefile tet5.txt\n",
    "this is my python\n",
    "this is my python\n",
    "this is my python\n",
    "this is my python\n",
    "this is my python\n",
    "this is my python\n",
    "this is my python"
   ]
  },
  {
   "cell_type": "code",
   "execution_count": 71,
   "id": "4219a40d",
   "metadata": {},
   "outputs": [],
   "source": [
    "f = open(\"tet5.txt\")"
   ]
  },
  {
   "cell_type": "code",
   "execution_count": 72,
   "id": "1c4a5914",
   "metadata": {},
   "outputs": [
    {
     "data": {
      "text/plain": [
       "'this is my python\\nthis is my python\\nthis is my python\\nthis is my python\\nthis is my python\\nthis is my python\\nthis is my python\\n'"
      ]
     },
     "execution_count": 72,
     "metadata": {},
     "output_type": "execute_result"
    }
   ],
   "source": [
    "f.read()"
   ]
  },
  {
   "cell_type": "code",
   "execution_count": 73,
   "id": "f1114d69",
   "metadata": {},
   "outputs": [
    {
     "data": {
      "text/plain": [
       "''"
      ]
     },
     "execution_count": 73,
     "metadata": {},
     "output_type": "execute_result"
    }
   ],
   "source": [
    "f.read()"
   ]
  },
  {
   "cell_type": "code",
   "execution_count": 74,
   "id": "41370d7c",
   "metadata": {},
   "outputs": [
    {
     "data": {
      "text/plain": [
       "''"
      ]
     },
     "execution_count": 74,
     "metadata": {},
     "output_type": "execute_result"
    }
   ],
   "source": [
    "f.read()"
   ]
  },
  {
   "cell_type": "code",
   "execution_count": 75,
   "id": "b8f7353b",
   "metadata": {},
   "outputs": [
    {
     "data": {
      "text/plain": [
       "0"
      ]
     },
     "execution_count": 75,
     "metadata": {},
     "output_type": "execute_result"
    }
   ],
   "source": [
    "f.seek(0)"
   ]
  },
  {
   "cell_type": "code",
   "execution_count": 76,
   "id": "11b81885",
   "metadata": {},
   "outputs": [
    {
     "data": {
      "text/plain": [
       "'this is my python\\nthis is my python\\nthis is my python\\nthis is my python\\nthis is my python\\nthis is my python\\nthis is my python\\n'"
      ]
     },
     "execution_count": 76,
     "metadata": {},
     "output_type": "execute_result"
    }
   ],
   "source": [
    "f.read()"
   ]
  },
  {
   "cell_type": "code",
   "execution_count": 77,
   "id": "78472612",
   "metadata": {},
   "outputs": [
    {
     "data": {
      "text/plain": [
       "''"
      ]
     },
     "execution_count": 77,
     "metadata": {},
     "output_type": "execute_result"
    }
   ],
   "source": [
    "f.read()"
   ]
  },
  {
   "cell_type": "code",
   "execution_count": 78,
   "id": "7db31b94",
   "metadata": {},
   "outputs": [
    {
     "data": {
      "text/plain": [
       "0"
      ]
     },
     "execution_count": 78,
     "metadata": {},
     "output_type": "execute_result"
    }
   ],
   "source": [
    "f.seek(0)"
   ]
  },
  {
   "cell_type": "code",
   "execution_count": 79,
   "id": "d745fffd",
   "metadata": {},
   "outputs": [
    {
     "data": {
      "text/plain": [
       "'this is my python\\nthis is my python\\nthis is my python\\nthis is my python\\nthis is my python\\nthis is my python\\nthis is my python\\n'"
      ]
     },
     "execution_count": 79,
     "metadata": {},
     "output_type": "execute_result"
    }
   ],
   "source": [
    "f.read()"
   ]
  },
  {
   "cell_type": "code",
   "execution_count": 80,
   "id": "e65c22b7",
   "metadata": {},
   "outputs": [
    {
     "data": {
      "text/plain": [
       "5"
      ]
     },
     "execution_count": 80,
     "metadata": {},
     "output_type": "execute_result"
    }
   ],
   "source": [
    "f.seek(5)"
   ]
  },
  {
   "cell_type": "code",
   "execution_count": 81,
   "id": "a6d5499b",
   "metadata": {},
   "outputs": [
    {
     "data": {
      "text/plain": [
       "'is my python\\nthis is my python\\nthis is my python\\nthis is my python\\nthis is my python\\nthis is my python\\nthis is my python\\n'"
      ]
     },
     "execution_count": 81,
     "metadata": {},
     "output_type": "execute_result"
    }
   ],
   "source": [
    "f.read()"
   ]
  },
  {
   "cell_type": "code",
   "execution_count": 82,
   "id": "367872de",
   "metadata": {},
   "outputs": [
    {
     "data": {
      "text/plain": [
       "''"
      ]
     },
     "execution_count": 82,
     "metadata": {},
     "output_type": "execute_result"
    }
   ],
   "source": [
    "f.read(50)"
   ]
  },
  {
   "cell_type": "code",
   "execution_count": 83,
   "id": "e4719817",
   "metadata": {},
   "outputs": [
    {
     "data": {
      "text/plain": [
       "50"
      ]
     },
     "execution_count": 83,
     "metadata": {},
     "output_type": "execute_result"
    }
   ],
   "source": [
    "f.seek(50)"
   ]
  },
  {
   "cell_type": "code",
   "execution_count": 84,
   "id": "eb1e64a7",
   "metadata": {},
   "outputs": [
    {
     "data": {
      "text/plain": [
       "'ython\\nthis is my python\\nthis is my python\\nthis is my python\\nthis is my python\\n'"
      ]
     },
     "execution_count": 84,
     "metadata": {},
     "output_type": "execute_result"
    }
   ],
   "source": [
    "f.read()"
   ]
  },
  {
   "cell_type": "code",
   "execution_count": 85,
   "id": "6586fc3c",
   "metadata": {},
   "outputs": [],
   "source": [
    "f1 = open(\"tet5.txt\")"
   ]
  },
  {
   "cell_type": "code",
   "execution_count": 86,
   "id": "5f51aae9",
   "metadata": {},
   "outputs": [
    {
     "data": {
      "text/plain": [
       "0"
      ]
     },
     "execution_count": 86,
     "metadata": {},
     "output_type": "execute_result"
    }
   ],
   "source": [
    "f1.tell()"
   ]
  },
  {
   "cell_type": "code",
   "execution_count": 87,
   "id": "446518af",
   "metadata": {
    "scrolled": true
   },
   "outputs": [
    {
     "data": {
      "text/plain": [
       "'this is my python\\nthis is my python\\nthis is my python\\nthis is my python\\nthis is my python\\nthis is my python\\nthis is my python\\n'"
      ]
     },
     "execution_count": 87,
     "metadata": {},
     "output_type": "execute_result"
    }
   ],
   "source": [
    "f1.read()"
   ]
  },
  {
   "cell_type": "code",
   "execution_count": 88,
   "id": "44ccbb48",
   "metadata": {},
   "outputs": [
    {
     "data": {
      "text/plain": [
       "133"
      ]
     },
     "execution_count": 88,
     "metadata": {},
     "output_type": "execute_result"
    }
   ],
   "source": [
    "f1.tell()"
   ]
  },
  {
   "cell_type": "code",
   "execution_count": 89,
   "id": "5005ed5d",
   "metadata": {},
   "outputs": [
    {
     "data": {
      "text/plain": [
       "5"
      ]
     },
     "execution_count": 89,
     "metadata": {},
     "output_type": "execute_result"
    }
   ],
   "source": [
    "f1.seek(5)"
   ]
  },
  {
   "cell_type": "code",
   "execution_count": 90,
   "id": "2ef22d06",
   "metadata": {},
   "outputs": [
    {
     "data": {
      "text/plain": [
       "5"
      ]
     },
     "execution_count": 90,
     "metadata": {},
     "output_type": "execute_result"
    }
   ],
   "source": [
    "f1.tell()"
   ]
  },
  {
   "cell_type": "code",
   "execution_count": 92,
   "id": "7c85a4b9",
   "metadata": {},
   "outputs": [
    {
     "data": {
      "text/plain": [
       "'is my python\\nthis is my python\\nthis is my python\\nthis is my python\\nthis is my python\\nthis is my python\\nthis is my python\\n'"
      ]
     },
     "execution_count": 92,
     "metadata": {},
     "output_type": "execute_result"
    }
   ],
   "source": [
    "f1.read()"
   ]
  },
  {
   "cell_type": "code",
   "execution_count": 93,
   "id": "09fd9719",
   "metadata": {},
   "outputs": [
    {
     "data": {
      "text/plain": [
       "''"
      ]
     },
     "execution_count": 93,
     "metadata": {},
     "output_type": "execute_result"
    }
   ],
   "source": [
    "f1.read(34)"
   ]
  },
  {
   "cell_type": "code",
   "execution_count": 94,
   "id": "8712c568",
   "metadata": {},
   "outputs": [],
   "source": [
    "f2 = open(\"tet5.txt\")"
   ]
  },
  {
   "cell_type": "code",
   "execution_count": 95,
   "id": "3daa0655",
   "metadata": {},
   "outputs": [
    {
     "data": {
      "text/plain": [
       "'this is my python\\nthis is my python\\nthis is my python\\nthis is my python\\nthis is my python\\nthis is my python\\nthis is my python\\n'"
      ]
     },
     "execution_count": 95,
     "metadata": {},
     "output_type": "execute_result"
    }
   ],
   "source": [
    "f2.read()"
   ]
  },
  {
   "cell_type": "code",
   "execution_count": 96,
   "id": "2f675aaa",
   "metadata": {},
   "outputs": [
    {
     "data": {
      "text/plain": [
       "0"
      ]
     },
     "execution_count": 96,
     "metadata": {},
     "output_type": "execute_result"
    }
   ],
   "source": [
    "f2.seek(0)"
   ]
  },
  {
   "cell_type": "code",
   "execution_count": 97,
   "id": "77b3da4a",
   "metadata": {},
   "outputs": [
    {
     "data": {
      "text/plain": [
       "'this is my python\\n'"
      ]
     },
     "execution_count": 97,
     "metadata": {},
     "output_type": "execute_result"
    }
   ],
   "source": [
    "f2.readline()"
   ]
  },
  {
   "cell_type": "code",
   "execution_count": 98,
   "id": "4c1fbcd6",
   "metadata": {},
   "outputs": [
    {
     "data": {
      "text/plain": [
       "['this is my python\\n',\n",
       " 'this is my python\\n',\n",
       " 'this is my python\\n',\n",
       " 'this is my python\\n',\n",
       " 'this is my python\\n',\n",
       " 'this is my python\\n']"
      ]
     },
     "execution_count": 98,
     "metadata": {},
     "output_type": "execute_result"
    }
   ],
   "source": [
    "f2.readlines()"
   ]
  },
  {
   "cell_type": "code",
   "execution_count": 99,
   "id": "22f10f45",
   "metadata": {},
   "outputs": [
    {
     "data": {
      "text/plain": [
       "<_io.TextIOWrapper name='tet5.txt' mode='r' encoding='cp1252'>"
      ]
     },
     "execution_count": 99,
     "metadata": {},
     "output_type": "execute_result"
    }
   ],
   "source": [
    "f2"
   ]
  },
  {
   "cell_type": "code",
   "execution_count": 100,
   "id": "c128a442",
   "metadata": {},
   "outputs": [
    {
     "data": {
      "text/plain": [
       "6"
      ]
     },
     "execution_count": 100,
     "metadata": {},
     "output_type": "execute_result"
    }
   ],
   "source": [
    "f2.fileno()"
   ]
  },
  {
   "cell_type": "code",
   "execution_count": 101,
   "id": "b19eca58",
   "metadata": {},
   "outputs": [],
   "source": [
    "f = open(\"test.txt\",\"w\")"
   ]
  },
  {
   "cell_type": "code",
   "execution_count": 102,
   "id": "225d4c87",
   "metadata": {},
   "outputs": [],
   "source": [
    "f = open(\"test.txt\",\"a\")"
   ]
  },
  {
   "cell_type": "code",
   "execution_count": 103,
   "id": "44afbfa6",
   "metadata": {},
   "outputs": [
    {
     "data": {
      "text/plain": [
       "16"
      ]
     },
     "execution_count": 103,
     "metadata": {},
     "output_type": "execute_result"
    }
   ],
   "source": [
    "f.write(\"hgtafgsudjjbdgta\")"
   ]
  },
  {
   "cell_type": "code",
   "execution_count": 104,
   "id": "cd013766",
   "metadata": {},
   "outputs": [],
   "source": [
    "f.close()"
   ]
  },
  {
   "cell_type": "code",
   "execution_count": 105,
   "id": "e1cabc24",
   "metadata": {},
   "outputs": [
    {
     "ename": "TypeError",
     "evalue": "'str' object is not callable",
     "output_type": "error",
     "traceback": [
      "\u001b[1;31m---------------------------------------------------------------------------\u001b[0m",
      "\u001b[1;31mTypeError\u001b[0m                                 Traceback (most recent call last)",
      "\u001b[1;32m~\\AppData\\Local\\Temp/ipykernel_11040/2406011199.py\u001b[0m in \u001b[0;36m<module>\u001b[1;34m\u001b[0m\n\u001b[1;32m----> 1\u001b[1;33m \u001b[0mf\u001b[0m\u001b[1;33m.\u001b[0m\u001b[0mname\u001b[0m\u001b[1;33m(\u001b[0m\u001b[1;33m)\u001b[0m\u001b[1;33m\u001b[0m\u001b[1;33m\u001b[0m\u001b[0m\n\u001b[0m",
      "\u001b[1;31mTypeError\u001b[0m: 'str' object is not callable"
     ]
    }
   ],
   "source": [
    "f.name()"
   ]
  },
  {
   "cell_type": "code",
   "execution_count": 106,
   "id": "b50dd2fa",
   "metadata": {},
   "outputs": [
    {
     "data": {
      "text/plain": [
       "'test.txt'"
      ]
     },
     "execution_count": 106,
     "metadata": {},
     "output_type": "execute_result"
    }
   ],
   "source": [
    "f.name"
   ]
  },
  {
   "cell_type": "code",
   "execution_count": 108,
   "id": "d3c3fb18",
   "metadata": {},
   "outputs": [
    {
     "data": {
      "text/plain": [
       "True"
      ]
     },
     "execution_count": 108,
     "metadata": {},
     "output_type": "execute_result"
    }
   ],
   "source": [
    "f.closed"
   ]
  },
  {
   "cell_type": "code",
   "execution_count": 109,
   "id": "425e3b2b",
   "metadata": {},
   "outputs": [
    {
     "data": {
      "text/plain": [
       "'a'"
      ]
     },
     "execution_count": 109,
     "metadata": {},
     "output_type": "execute_result"
    }
   ],
   "source": [
    "f.mode"
   ]
  },
  {
   "cell_type": "code",
   "execution_count": 110,
   "id": "e78f7a01",
   "metadata": {},
   "outputs": [],
   "source": [
    "# map, reduce, filter"
   ]
  },
  {
   "cell_type": "code",
   "execution_count": 111,
   "id": "aeb45791",
   "metadata": {},
   "outputs": [],
   "source": [
    "l = [2,3,4,5,6]\n",
    "l1 = []\n",
    "for i in l:\n",
    "    l1.append(i**2)"
   ]
  },
  {
   "cell_type": "code",
   "execution_count": 112,
   "id": "e3b4aa6e",
   "metadata": {},
   "outputs": [
    {
     "data": {
      "text/plain": [
       "[4, 9, 16, 25, 36]"
      ]
     },
     "execution_count": 112,
     "metadata": {},
     "output_type": "execute_result"
    }
   ],
   "source": [
    "l1"
   ]
  },
  {
   "cell_type": "code",
   "execution_count": 113,
   "id": "1c59d298",
   "metadata": {},
   "outputs": [],
   "source": [
    "def sq(n):\n",
    "    return(n**2)"
   ]
  },
  {
   "cell_type": "code",
   "execution_count": null,
   "id": "57904c34",
   "metadata": {},
   "outputs": [],
   "source": []
  },
  {
   "cell_type": "code",
   "execution_count": 114,
   "id": "6647a5d3",
   "metadata": {},
   "outputs": [
    {
     "data": {
      "text/plain": [
       "<map at 0x25d5dfe1670>"
      ]
     },
     "execution_count": 114,
     "metadata": {},
     "output_type": "execute_result"
    }
   ],
   "source": [
    "map(sq,l)"
   ]
  },
  {
   "cell_type": "code",
   "execution_count": 115,
   "id": "42f78332",
   "metadata": {},
   "outputs": [
    {
     "data": {
      "text/plain": [
       "[4, 9, 16, 25, 36]"
      ]
     },
     "execution_count": 115,
     "metadata": {},
     "output_type": "execute_result"
    }
   ],
   "source": [
    "list(map(sq,l))"
   ]
  },
  {
   "cell_type": "code",
   "execution_count": 117,
   "id": "dfbc21bd",
   "metadata": {},
   "outputs": [
    {
     "data": {
      "text/plain": [
       "[4, 9, 16, 25, 36]"
      ]
     },
     "execution_count": 117,
     "metadata": {},
     "output_type": "execute_result"
    }
   ],
   "source": [
    "list(map(lambda x : x**2,l))"
   ]
  },
  {
   "cell_type": "code",
   "execution_count": 118,
   "id": "5b8a2776",
   "metadata": {},
   "outputs": [
    {
     "data": {
      "text/plain": [
       "[2, 3, 4, 5, 6]"
      ]
     },
     "execution_count": 118,
     "metadata": {},
     "output_type": "execute_result"
    }
   ],
   "source": [
    "l"
   ]
  },
  {
   "cell_type": "code",
   "execution_count": 119,
   "id": "1d9a8315",
   "metadata": {},
   "outputs": [
    {
     "data": {
      "text/plain": [
       "<map at 0x25d5dfe1940>"
      ]
     },
     "execution_count": 119,
     "metadata": {},
     "output_type": "execute_result"
    }
   ],
   "source": [
    "map(lambda x : str(x),l)"
   ]
  },
  {
   "cell_type": "code",
   "execution_count": 120,
   "id": "0cf37bb9",
   "metadata": {},
   "outputs": [
    {
     "data": {
      "text/plain": [
       "['2', '3', '4', '5', '6']"
      ]
     },
     "execution_count": 120,
     "metadata": {},
     "output_type": "execute_result"
    }
   ],
   "source": [
    "list(map(lambda x : str(x),l))"
   ]
  },
  {
   "cell_type": "code",
   "execution_count": 121,
   "id": "794b33bd",
   "metadata": {},
   "outputs": [],
   "source": [
    "def str_c(n):\n",
    "    return str(n)"
   ]
  },
  {
   "cell_type": "code",
   "execution_count": 122,
   "id": "3f6a2cda",
   "metadata": {},
   "outputs": [
    {
     "data": {
      "text/plain": [
       "['2', '3', '4', '5', '6']"
      ]
     },
     "execution_count": 122,
     "metadata": {},
     "output_type": "execute_result"
    }
   ],
   "source": [
    "list(map(str_c,l))"
   ]
  },
  {
   "cell_type": "code",
   "execution_count": 123,
   "id": "fab962b5",
   "metadata": {},
   "outputs": [],
   "source": [
    "from functools import reduce"
   ]
  },
  {
   "cell_type": "code",
   "execution_count": 131,
   "id": "5496dfd8",
   "metadata": {},
   "outputs": [],
   "source": [
    "l = [2,3,4,5,6,6,6,7,2]"
   ]
  },
  {
   "cell_type": "code",
   "execution_count": 125,
   "id": "8e1ba1f5",
   "metadata": {},
   "outputs": [
    {
     "data": {
      "text/plain": [
       "39"
      ]
     },
     "execution_count": 125,
     "metadata": {},
     "output_type": "execute_result"
    }
   ],
   "source": [
    "sum(l)"
   ]
  },
  {
   "cell_type": "code",
   "execution_count": 130,
   "id": "60e9d2f6",
   "metadata": {},
   "outputs": [
    {
     "ename": "TypeError",
     "evalue": "<lambda>() missing 1 required positional argument: 'c'",
     "output_type": "error",
     "traceback": [
      "\u001b[1;31m---------------------------------------------------------------------------\u001b[0m",
      "\u001b[1;31mTypeError\u001b[0m                                 Traceback (most recent call last)",
      "\u001b[1;32m~\\AppData\\Local\\Temp/ipykernel_11040/2990046939.py\u001b[0m in \u001b[0;36m<module>\u001b[1;34m\u001b[0m\n\u001b[1;32m----> 1\u001b[1;33m \u001b[0mreduce\u001b[0m\u001b[1;33m(\u001b[0m\u001b[1;32mlambda\u001b[0m \u001b[0ma\u001b[0m\u001b[1;33m,\u001b[0m\u001b[0mb\u001b[0m\u001b[1;33m,\u001b[0m\u001b[0mc\u001b[0m \u001b[1;33m:\u001b[0m \u001b[0ma\u001b[0m\u001b[1;33m*\u001b[0m\u001b[0mb\u001b[0m\u001b[1;33m*\u001b[0m\u001b[0mc\u001b[0m\u001b[1;33m,\u001b[0m\u001b[0ml\u001b[0m\u001b[1;33m)\u001b[0m\u001b[1;33m\u001b[0m\u001b[1;33m\u001b[0m\u001b[0m\n\u001b[0m",
      "\u001b[1;31mTypeError\u001b[0m: <lambda>() missing 1 required positional argument: 'c'"
     ]
    }
   ],
   "source": [
    "reduce(lambda a,b,c : a*b*c,l)"
   ]
  },
  {
   "cell_type": "code",
   "execution_count": 132,
   "id": "74eff19b",
   "metadata": {},
   "outputs": [],
   "source": [
    "l = [2]"
   ]
  },
  {
   "cell_type": "code",
   "execution_count": 133,
   "id": "6b8f77ab",
   "metadata": {},
   "outputs": [
    {
     "data": {
      "text/plain": [
       "2"
      ]
     },
     "execution_count": 133,
     "metadata": {},
     "output_type": "execute_result"
    }
   ],
   "source": [
    "reduce(lambda a,b : a*b,l)"
   ]
  },
  {
   "cell_type": "code",
   "execution_count": 134,
   "id": "961dd67f",
   "metadata": {},
   "outputs": [],
   "source": [
    "l = [1,2,3,4,5,6]"
   ]
  },
  {
   "cell_type": "code",
   "execution_count": 137,
   "id": "f605317e",
   "metadata": {},
   "outputs": [
    {
     "data": {
      "text/plain": [
       "[2, 4, 6]"
      ]
     },
     "execution_count": 137,
     "metadata": {},
     "output_type": "execute_result"
    }
   ],
   "source": [
    "list(filter(lambda x : x%2==0, l))"
   ]
  },
  {
   "cell_type": "code",
   "execution_count": 138,
   "id": "ec987641",
   "metadata": {},
   "outputs": [],
   "source": [
    "def even(n):\n",
    "    if n%2 == 0:\n",
    "        return True"
   ]
  },
  {
   "cell_type": "code",
   "execution_count": 139,
   "id": "acf289c2",
   "metadata": {},
   "outputs": [
    {
     "data": {
      "text/plain": [
       "[2, 4, 6]"
      ]
     },
     "execution_count": 139,
     "metadata": {},
     "output_type": "execute_result"
    }
   ],
   "source": [
    "list(filter(even,l))"
   ]
  },
  {
   "cell_type": "code",
   "execution_count": null,
   "id": "654f4ec9",
   "metadata": {},
   "outputs": [],
   "source": []
  }
 ],
 "metadata": {
  "kernelspec": {
   "display_name": "Python 3 (ipykernel)",
   "language": "python",
   "name": "python3"
  },
  "language_info": {
   "codemirror_mode": {
    "name": "ipython",
    "version": 3
   },
   "file_extension": ".py",
   "mimetype": "text/x-python",
   "name": "python",
   "nbconvert_exporter": "python",
   "pygments_lexer": "ipython3",
   "version": "3.9.7"
  }
 },
 "nbformat": 4,
 "nbformat_minor": 5
}
